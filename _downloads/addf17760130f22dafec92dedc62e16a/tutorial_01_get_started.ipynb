{
  "cells": [
    {
      "cell_type": "markdown",
      "metadata": {},
      "source": [
        "\n# Getting Started\n\n**Author**: Hongzheng Chen (hzchen@cs.cornell.edu)\n\nIn this tutorial, we demonstrate the basic usage of HeteroCL-MLIR with the new DSL frontend.\n\n## Import HeteroCL\nWe usually use ``hcl`` as the acronym of HeteroCL.\n"
      ]
    },
    {
      "cell_type": "code",
      "execution_count": null,
      "metadata": {
        "collapsed": false
      },
      "outputs": [],
      "source": [
        "import heterocl as hcl"
      ]
    },
    {
      "cell_type": "markdown",
      "metadata": {},
      "source": [
        "## Algorithm Definition\nHeteroCL leverages a algorithm-optimization decoupled paradigm, which means\nusers can first define the algorithm in a high-level language and then\noptimize the program with various hardware customization techniques (i.e.,\nschedule primitives). Here we show how to define a general matrix multiplication\n(GEMM) in the new HeteroCL DSL.\n\nWe first import the necessary data types from HeteroCL. In this example, we\nuse ``int32`` as the data type for all the variables.\n\n"
      ]
    },
    {
      "cell_type": "code",
      "execution_count": null,
      "metadata": {
        "collapsed": false
      },
      "outputs": [],
      "source": [
        "from heterocl.ir.types import int32\n\n# We then define a function that takes two 32x32 matrices as inputs and\n# returns a 32x32 matrix as output. The variable declaration is defined\n# as ``<name>: <type>[<shape>]``. We require **strict type annotation** in\n# HeteroCL's kernels, which is different from directly programming in Python.\n#\n# Inside the kernel, we provide a shorthand for the loop iterator. For example,\n# ``for i, j, k in hcl.grid(32, 32, 32)`` is equivalent to the following\n# nested for-loop:\n#\n# .. code-block:: python\n#\n#    for i in range(32):\n#        for j in range(32):\n#            for k in range(32):\n#                # body\n#\n# The ``hcl.grid`` API is used to define the iteration space of the loop.\n# The arguments denote the upper bounds of the loop iterators.\n# Notice the above range-loop is also supported in the new HeteroCL, so\n# users have more flexibility to define the loop structure.\n\n\ndef gemm(A: int32[32, 32], B: int32[32, 32]) -> int32[32, 32]:\n    C: int32[32, 32] = 0\n    for i, j, k in hcl.grid(32, 32, 32):\n        C[i, j] += A[i, k] * B[k, j]\n    return C"
      ]
    },
    {
      "cell_type": "markdown",
      "metadata": {},
      "source": [
        "## Create the Schedule\nAfter defining the algorithm, we can start applying transformations to the\nkernel in order to achieve high performance. We call ``hcl.customize`` to\ncreate a schedule for the kernel, where **schedule** denotes the set of\ntransformations.\n\n"
      ]
    },
    {
      "cell_type": "code",
      "execution_count": null,
      "metadata": {
        "collapsed": false
      },
      "outputs": [],
      "source": [
        "s = hcl.customize(gemm)"
      ]
    },
    {
      "cell_type": "markdown",
      "metadata": {},
      "source": [
        "## Inspect the Intermediate Representation (IR)\nHeteroCL leverage the [MLIR](https://mlir.llvm.org/) infrastructure to\nrepresent the program, and we can directly print out the IR by using\n``s.module``.\n\n"
      ]
    },
    {
      "cell_type": "code",
      "execution_count": null,
      "metadata": {
        "collapsed": false
      },
      "outputs": [],
      "source": [
        "print(s.module)\n\n# Let's take a close look at the generated IR. Basically an MLIR program is\n# a set of operations in different dialects, and the operations are referred\n# to as **<dialect>.<ops>**. In this example, we can see that the generated IR\n# contains the following dialects:\n#\n# - ``func``: Used to define the function signature and the return of the function.\n# - ``memref``: Used to define the shape and memory layout of the tensors.\n# - ``affine``: Used to define the loop structure.\n# - ``arith``: Used to conduct actual arithmetic operations.\n# - ``linalg``: Currently only used to initialize the tensors.\n#\n# And the inner-most dot-product is explicitly represented by a sequence of load/store\n# operations and some arithmetic operations.\n# HeteroCL also attaches some attributes to the operations, including the tensor\n# names, loop names, and operation names, which are further used for optimization."
      ]
    },
    {
      "cell_type": "markdown",
      "metadata": {},
      "source": [
        "## Apply Transformations\nNext, we start transforming the program by using the schedule primitives.\nWe can refer to the loops by using the loop names. For example, to split\nthe outer-most loop into two, we can call the ``.split()`` primitive as follows:\n\n"
      ]
    },
    {
      "cell_type": "code",
      "execution_count": null,
      "metadata": {
        "collapsed": false
      },
      "outputs": [],
      "source": [
        "s.split(\"i\", factor=8)\n\n# We can print out the IR again to see the effect of the transformation.\n#\n# .. note::\n#\n#   In the new HeteroCL DSL, all the transformations are applied **immediately**,\n#   so users can directly see the changes after they apply the transformations.\n\nprint(s.module)\n\n# We can see that the outer-most loop is split into two loops, and the\n# original loop is replaced by the two new loops. The new loops are named\n# as ``i.outer`` and ``i.inner``.\n#\n# Similarly, we can split the ``j`` loop:\n\ns.split(\"j\", factor=8)\nprint(s.module)\n\n# We can further reorder the loops by using ``.reorder()``. For example, we\n# can move the splitted outer loops together, and move the splitted inner\n# loops together.\n\ns.reorder(\"i.outer\", \"j.outer\", \"i.inner\", \"j.inner\")\nprint(s.module)\n\n# We can see the changes from the loop names in the generated IR."
      ]
    },
    {
      "cell_type": "markdown",
      "metadata": {},
      "source": [
        "## Create the Executable\nThe next step is to generate the executable from the schedule. We can\ndirectly call ``.build()`` function on the schedule and specify the target\nhardware as ``llvm``. By default, HeteroCL will generate a LLVM program that\ncan be executed on the CPU. Otherwise, you can also specify the target as\n``vhls`` to generate a Vivado HLS program that can be synthesized to an FPGA\naccelerator.\n\n"
      ]
    },
    {
      "cell_type": "code",
      "execution_count": null,
      "metadata": {
        "collapsed": false
      },
      "outputs": [],
      "source": [
        "mod = s.build(target=\"llvm\")\n\n# .. note::\n#\n#   ``s.build(target=\"llvm\")`` is equivalent to ``s.build()``."
      ]
    },
    {
      "cell_type": "markdown",
      "metadata": {},
      "source": [
        "## Prepare the Inputs/Outputs for the Executable\nTo run the executable, we can generate random NumPy arrays as input data, and\ndirectly feed them into the executable. HeteroCL will automatically handle the\ninput data and generate corresponding internal wrappers for LLVM to execute.\n\n"
      ]
    },
    {
      "cell_type": "code",
      "execution_count": null,
      "metadata": {
        "collapsed": false
      },
      "outputs": [],
      "source": [
        "import numpy as np\n\nnp_A = np.random.randint(0, 100, (32, 32))\nnp_B = np.random.randint(0, 100, (32, 32))\nnp_C = np.zeros((32, 32), dtype=np.int32)"
      ]
    },
    {
      "cell_type": "markdown",
      "metadata": {},
      "source": [
        "## Run the Executable\nWith the prepared inputs/outputs, we can feed them to our executable.\nNotice the output is also passed into the HeteroCL as a function argument,\nand the result will be directly written into the output array.\n\n"
      ]
    },
    {
      "cell_type": "code",
      "execution_count": null,
      "metadata": {
        "collapsed": false
      },
      "outputs": [],
      "source": [
        "mod(np_A, np_B, np_C)"
      ]
    },
    {
      "cell_type": "markdown",
      "metadata": {},
      "source": [
        "Finally, we can do a sanity check to see if the results are correct.\n\n"
      ]
    },
    {
      "cell_type": "code",
      "execution_count": null,
      "metadata": {
        "collapsed": false
      },
      "outputs": [],
      "source": [
        "golden_C = np.matmul(np_A, np_B)\n\nnp.testing.assert_allclose(np_C, golden_C, rtol=1e-5, atol=1e-5)"
      ]
    }
  ],
  "metadata": {
    "kernelspec": {
      "display_name": "Python 3",
      "language": "python",
      "name": "python3"
    },
    "language_info": {
      "codemirror_mode": {
        "name": "ipython",
        "version": 3
      },
      "file_extension": ".py",
      "mimetype": "text/x-python",
      "name": "python",
      "nbconvert_exporter": "python",
      "pygments_lexer": "ipython3",
      "version": "3.10.1"
    }
  },
  "nbformat": 4,
  "nbformat_minor": 0
}